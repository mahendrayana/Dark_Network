{
 "cells": [
  {
   "cell_type": "code",
   "execution_count": 2,
   "metadata": {},
   "outputs": [],
   "source": [
    "import pandas as pd\n",
    "import re\n",
    "import urllib.parse"
   ]
  },
  {
   "cell_type": "code",
   "execution_count": 6,
   "metadata": {},
   "outputs": [
    {
     "data": {
      "text/plain": [
       "<bound method DataFrame.info of             Character Name                                       Image Source  \\\n",
       "0             Selma_Ahrens  https://static.wikia.nocookie.net/dark-netflix...   \n",
       "1            Helene_Albers  https://static.wikia.nocookie.net/dark-netflix...   \n",
       "2           Hermann_Albers  https://static.wikia.nocookie.net/dark-netflix...   \n",
       "3            Eva%27s_World  https://static.wikia.nocookie.net/dark-netflix...   \n",
       "4            Eva%27s_World  https://static.wikia.nocookie.net/dark-netflix...   \n",
       "..                     ...                                                ...   \n",
       "72           Eva%27s_World  https://static.wikia.nocookie.net/dark-netflix...   \n",
       "73                 Unknown  https://static.wikia.nocookie.net/dark-netflix...   \n",
       "74  Bernadette_W%C3%B6ller  https://static.wikia.nocookie.net/dark-netflix...   \n",
       "75      Hannah_W%C3%B6ller  https://static.wikia.nocookie.net/dark-netflix...   \n",
       "76      Torben_W%C3%B6ller  https://static.wikia.nocookie.net/dark-netflix...   \n",
       "\n",
       "                                            Wiki Link  \\\n",
       "0   https://dark-netflix.fandom.com/wiki/Selma_Ahrens   \n",
       "1   https://dark-netflix.fandom.com/wiki/Helene_Al...   \n",
       "2   https://dark-netflix.fandom.com/wiki/Hermann_A...   \n",
       "3   https://dark-netflix.fandom.com/wiki/Aleksande...   \n",
       "4   https://dark-netflix.fandom.com/wiki/Bartosz_T...   \n",
       "..                                                ...   \n",
       "72  https://dark-netflix.fandom.com/wiki/Ulrich_Ni...   \n",
       "73       https://dark-netflix.fandom.com/wiki/Unknown   \n",
       "74  https://dark-netflix.fandom.com/wiki/Bernadett...   \n",
       "75  https://dark-netflix.fandom.com/wiki/Hannah_W%...   \n",
       "76  https://dark-netflix.fandom.com/wiki/Torben_W%...   \n",
       "\n",
       "                                     Family Relations  \n",
       "0                                                 NaN  \n",
       "1   Katharina Nielsen (daughter)Ulrich Nielsen (so...  \n",
       "2   Katharina Nielsen (daughter)Ulrich Nielsen (so...  \n",
       "3   Bartosz Tiedemann (son)Claudia Tiedemann † (mo...  \n",
       "4   Aleksander Tiedemann † (father)Silja Tiedemann...  \n",
       "..                                                ...  \n",
       "72                                                NaN  \n",
       "73                                                NaN  \n",
       "74  Peter Doppler (Boyfriend in original world)Han...  \n",
       "75  Torben Wöller (husband)Benni Wöller (sister-in...  \n",
       "76  Hannah (wife) (Original World)Unborn child (Or...  \n",
       "\n",
       "[77 rows x 4 columns]>"
      ]
     },
     "execution_count": 6,
     "metadata": {},
     "output_type": "execute_result"
    }
   ],
   "source": [
    "df = pd.read_csv('C:\\\\Users\\\\Putu Mahendrayana\\\\Documents\\\\Dark_Network\\\\Data\\\\RAW.csv')\n",
    "df.info"
   ]
  },
  {
   "cell_type": "code",
   "execution_count": 7,
   "metadata": {},
   "outputs": [
    {
     "name": "stdout",
     "output_type": "stream",
     "text": [
      "            Character Name                                       Image Source  \\\n",
      "0             Selma Ahrens  https://static.wikia.nocookie.net/dark-netflix...   \n",
      "1            Helene Albers  https://static.wikia.nocookie.net/dark-netflix...   \n",
      "2           Hermann Albers  https://static.wikia.nocookie.net/dark-netflix...   \n",
      "3     Aleksander Tiedemann  https://static.wikia.nocookie.net/dark-netflix...   \n",
      "4        Bartosz Tiedemann  https://static.wikia.nocookie.net/dark-netflix...   \n",
      "..                     ...                                                ...   \n",
      "72          Ulrich Nielsen  https://static.wikia.nocookie.net/dark-netflix...   \n",
      "73                 Unknown  https://static.wikia.nocookie.net/dark-netflix...   \n",
      "74  Bernadette W%C3%B6ller  https://static.wikia.nocookie.net/dark-netflix...   \n",
      "75      Hannah W%C3%B6ller  https://static.wikia.nocookie.net/dark-netflix...   \n",
      "76      Torben W%C3%B6ller  https://static.wikia.nocookie.net/dark-netflix...   \n",
      "\n",
      "                                            Wiki Link  \\\n",
      "0   https://dark-netflix.fandom.com/wiki/Selma_Ahrens   \n",
      "1   https://dark-netflix.fandom.com/wiki/Helene_Al...   \n",
      "2   https://dark-netflix.fandom.com/wiki/Hermann_A...   \n",
      "3   https://dark-netflix.fandom.com/wiki/Aleksande...   \n",
      "4   https://dark-netflix.fandom.com/wiki/Bartosz_T...   \n",
      "..                                                ...   \n",
      "72  https://dark-netflix.fandom.com/wiki/Ulrich_Ni...   \n",
      "73       https://dark-netflix.fandom.com/wiki/Unknown   \n",
      "74  https://dark-netflix.fandom.com/wiki/Bernadett...   \n",
      "75  https://dark-netflix.fandom.com/wiki/Hannah_W%...   \n",
      "76  https://dark-netflix.fandom.com/wiki/Torben_W%...   \n",
      "\n",
      "                                     Family Relations  NodeID  \n",
      "0                                                 NaN       1  \n",
      "1   Katharina Nielsen (daughter)Ulrich Nielsen (so...       2  \n",
      "2   Katharina Nielsen (daughter)Ulrich Nielsen (so...       3  \n",
      "3   Bartosz Tiedemann (son)Claudia Tiedemann † (mo...       4  \n",
      "4   Aleksander Tiedemann † (father)Silja Tiedemann...       5  \n",
      "..                                                ...     ...  \n",
      "72                                                NaN      73  \n",
      "73                                                NaN      74  \n",
      "74  Peter Doppler (Boyfriend in original world)Han...      75  \n",
      "75  Torben Wöller (husband)Benni Wöller (sister-in...      76  \n",
      "76  Hannah (wife) (Original World)Unborn child (Or...      77  \n",
      "\n",
      "[77 rows x 5 columns]\n"
     ]
    }
   ],
   "source": [
    "# Function to extract character name from the link\n",
    "def extract_character_name(link):\n",
    "    match = re.search(r'/wiki/([^/]+)', link)\n",
    "    if match:\n",
    "        return match.group(1).replace('_', ' ')\n",
    "    return None\n",
    "\n",
    "# Apply the function to the 'link' column and create a new 'Character Name' column\n",
    "df['Character Name'] = df['Wiki Link'].apply(extract_character_name)\n",
    "\n",
    "# Assign NodeIDs to each character row\n",
    "df['NodeID'] = range(1, len(df) + 1)\n",
    "\n",
    "# Display the modified DataFrame\n",
    "print(df)"
   ]
  },
  {
   "cell_type": "code",
   "execution_count": 9,
   "metadata": {},
   "outputs": [],
   "source": [
    "# Function to decode URL-encoded characters and replace underscores with spaces\n",
    "def decode_and_clean_name(link):\n",
    "    decoded_name = urllib.parse.unquote(link)\n",
    "    cleaned_name = decoded_name.replace('_', ' ')\n",
    "    return cleaned_name\n",
    "\n",
    "# Apply the function to the 'Character Name' column\n",
    "df['Character Name'] = df['Character Name'].apply(decode_and_clean_name)\n"
   ]
  },
  {
   "cell_type": "code",
   "execution_count": 12,
   "metadata": {},
   "outputs": [
    {
     "data": {
      "text/plain": [
       "<bound method DataFrame.info of           Character Name                                       Image Source  \\\n",
       "0           Selma Ahrens  https://static.wikia.nocookie.net/dark-netflix...   \n",
       "1          Helene Albers  https://static.wikia.nocookie.net/dark-netflix...   \n",
       "2         Hermann Albers  https://static.wikia.nocookie.net/dark-netflix...   \n",
       "3   Aleksander Tiedemann  https://static.wikia.nocookie.net/dark-netflix...   \n",
       "4      Bartosz Tiedemann  https://static.wikia.nocookie.net/dark-netflix...   \n",
       "..                   ...                                                ...   \n",
       "72        Ulrich Nielsen  https://static.wikia.nocookie.net/dark-netflix...   \n",
       "73               Unknown  https://static.wikia.nocookie.net/dark-netflix...   \n",
       "74     Bernadette Wöller  https://static.wikia.nocookie.net/dark-netflix...   \n",
       "75         Hannah Wöller  https://static.wikia.nocookie.net/dark-netflix...   \n",
       "76         Torben Wöller  https://static.wikia.nocookie.net/dark-netflix...   \n",
       "\n",
       "                                            Wiki Link  \\\n",
       "0   https://dark-netflix.fandom.com/wiki/Selma_Ahrens   \n",
       "1   https://dark-netflix.fandom.com/wiki/Helene_Al...   \n",
       "2   https://dark-netflix.fandom.com/wiki/Hermann_A...   \n",
       "3   https://dark-netflix.fandom.com/wiki/Aleksande...   \n",
       "4   https://dark-netflix.fandom.com/wiki/Bartosz_T...   \n",
       "..                                                ...   \n",
       "72  https://dark-netflix.fandom.com/wiki/Ulrich_Ni...   \n",
       "73       https://dark-netflix.fandom.com/wiki/Unknown   \n",
       "74  https://dark-netflix.fandom.com/wiki/Bernadett...   \n",
       "75  https://dark-netflix.fandom.com/wiki/Hannah_W%...   \n",
       "76  https://dark-netflix.fandom.com/wiki/Torben_W%...   \n",
       "\n",
       "                                     Family Relations  NodeID  \\\n",
       "0                                                 NaN       1   \n",
       "1   Katharina Nielsen (daughter)Ulrich Nielsen (so...       2   \n",
       "2   Katharina Nielsen (daughter)Ulrich Nielsen (so...       3   \n",
       "3   Bartosz Tiedemann (son)Claudia Tiedemann † (mo...       4   \n",
       "4   Aleksander Tiedemann † (father)Silja Tiedemann...       5   \n",
       "..                                                ...     ...   \n",
       "72                                                NaN      73   \n",
       "73                                                NaN      74   \n",
       "74  Peter Doppler (Boyfriend in original world)Han...      75   \n",
       "75  Torben Wöller (husband)Benni Wöller (sister-in...      76   \n",
       "76  Hannah (wife) (Original World)Unborn child (Or...      77   \n",
       "\n",
       "                            Modified Family Relations  \n",
       "0                                                 NaN  \n",
       "1   Katharina Nielsen_daughter,Ulrich Nielsen_son-...  \n",
       "2   Katharina Nielsen_daughter,Ulrich Nielsen_son-...  \n",
       "3   Bartosz Tiedemann_son,Claudia Tiedemann _mothe...  \n",
       "4   Aleksander Tiedemann _father,Silja Tiedemann  ...  \n",
       "..                                                ...  \n",
       "72                                                NaN  \n",
       "73                                                NaN  \n",
       "74  Peter Doppler_Boyfriend in original world,Hann...  \n",
       "75  Torben Wöller_husband,Benni Wöller_sister-in-l...  \n",
       "76  Hannah (wife) (Original World,Unborn child_Ori...  \n",
       "\n",
       "[77 rows x 6 columns]>"
      ]
     },
     "execution_count": 12,
     "metadata": {},
     "output_type": "execute_result"
    }
   ],
   "source": [
    "# Function to modify the family relations text\n",
    "def modify_family_relations(relations):\n",
    "    if pd.isna(relations):\n",
    "        return relations  # Return NA value as is\n",
    "    \n",
    "    modified_relations = []\n",
    "    segments = re.split(r'\\)(?=\\S)', relations)\n",
    "    \n",
    "    for segment in segments:\n",
    "        parts = segment.split('(')\n",
    "        if len(parts) == 2:\n",
    "            name = parts[0].strip().replace('†', '')  # Remove † symbol\n",
    "            role = parts[1].strip()\n",
    "            modified_relations.append(f\"{name}_{role}\")  # Remove the space after underscore\n",
    "        else:\n",
    "            modified_relations.append(segment.strip())\n",
    "    return ','.join(modified_relations)\n",
    "# Apply the function to the 'Family Relations' column\n",
    "df['Modified Family Relations'] = df['Family Relations'].apply(modify_family_relations)\n",
    "# Display the modified DataFrame\n",
    "df.info"
   ]
  },
  {
   "cell_type": "code",
   "execution_count": 13,
   "metadata": {},
   "outputs": [
    {
     "name": "stdout",
     "output_type": "stream",
     "text": [
      "           Source Node        Target Node  \\\n",
      "0        Helene Albers  Katharina Nielsen   \n",
      "1        Helene Albers     Ulrich Nielsen   \n",
      "2        Helene Albers     Magnus Nielsen   \n",
      "3        Helene Albers     Martha Nielsen   \n",
      "4        Helene Albers     Mikkel Nielsen   \n",
      "..                 ...                ...   \n",
      "585  Bernadette Wöller      Peter Doppler   \n",
      "586  Bernadette Wöller      Hannah Wöller   \n",
      "587      Hannah Wöller      Torben Wöller   \n",
      "588      Hannah Wöller       Benni Wöller   \n",
      "589      Torben Wöller       Unborn child   \n",
      "\n",
      "                                              Relation  \n",
      "0                                             daughter  \n",
      "1    son-in-law/great-great-great-grandson/great-gr...  \n",
      "2                                             grandson  \n",
      "3                                        granddaughter  \n",
      "4                                             grandson  \n",
      "..                                                 ...  \n",
      "585                        Boyfriend in original world  \n",
      "586                 sister-in-law) Unborn nephew/niece  \n",
      "587                                            husband  \n",
      "588                                      sister-in-law  \n",
      "589                                    Original World)  \n",
      "\n",
      "[590 rows x 3 columns]\n"
     ]
    }
   ],
   "source": [
    "# Create an empty list to store rows\n",
    "rows = []\n",
    "\n",
    "# Iterate through each row\n",
    "for index, row in df.iterrows():\n",
    "    source = row['Character Name']\n",
    "    modified_relations = row['Modified Family Relations']\n",
    "    \n",
    "    # Skip processing if modified_relations is NA\n",
    "    if pd.isna(modified_relations):\n",
    "        continue\n",
    "    \n",
    "    target_relations = modified_relations.split(',')\n",
    "    \n",
    "    # Iterate through each relation in the 'Modified Family Relations'\n",
    "    for relation in target_relations:\n",
    "        # Split the relation by underscore (_)\n",
    "        relation_parts = relation.split('_')\n",
    "        \n",
    "        # Check if the relation is in the correct format\n",
    "        if len(relation_parts) == 2:\n",
    "            target, relation_type = relation_parts\n",
    "            rows.append([source, target, relation_type])\n",
    "\n",
    "# Create a new DataFrame with the extracted relationships\n",
    "new_df = pd.DataFrame(rows, columns=['Source Node', 'Target Node', 'Relation'])\n",
    "\n",
    "# Display the new DataFrame\n",
    "print(new_df)"
   ]
  },
  {
   "cell_type": "code",
   "execution_count": 14,
   "metadata": {},
   "outputs": [],
   "source": [
    "new_df['Relation'] = new_df['Relation'].str.replace(')', '')"
   ]
  },
  {
   "cell_type": "code",
   "execution_count": 15,
   "metadata": {},
   "outputs": [
    {
     "data": {
      "text/plain": [
       "<bound method DataFrame.info of            Source Node        Target Node                          Relation\n",
       "0        Helene Albers  Katharina Nielsen                          daughter\n",
       "1        Helene Albers     Ulrich Nielsen                        son-in-law\n",
       "2        Helene Albers     Ulrich Nielsen        great-great-great-grandson\n",
       "3        Helene Albers     Ulrich Nielsen  great-great-great-great-grandson\n",
       "4        Helene Albers     Magnus Nielsen                          grandson\n",
       "..                 ...                ...                               ...\n",
       "731  Bernadette Wöller      Hannah Wöller       sister-in-law Unborn nephew\n",
       "732  Bernadette Wöller      Hannah Wöller                             niece\n",
       "733      Hannah Wöller      Torben Wöller                           husband\n",
       "734      Hannah Wöller       Benni Wöller                     sister-in-law\n",
       "735      Torben Wöller       Unborn child                    Original World\n",
       "\n",
       "[736 rows x 3 columns]>"
      ]
     },
     "execution_count": 15,
     "metadata": {},
     "output_type": "execute_result"
    }
   ],
   "source": [
    "# Split the 'Relation' column and create new rows\n",
    "new_rows = []\n",
    "\n",
    "for index, row in new_df.iterrows():\n",
    "    source = row['Source Node']\n",
    "    target = row['Target Node']\n",
    "    relations = row['Relation'].split('/')\n",
    "    \n",
    "    for relation in relations:\n",
    "        new_rows.append([source, target, relation.strip()])\n",
    "\n",
    "# Create a new DataFrame with the split relations\n",
    "df_final = pd.DataFrame(new_rows, columns=['Source Node', 'Target Node', 'Relation'])\n",
    "df_final.info"
   ]
  },
  {
   "cell_type": "code",
   "execution_count": 17,
   "metadata": {},
   "outputs": [
    {
     "ename": "OSError",
     "evalue": "Cannot save file into a non-existent directory: 'Data'",
     "output_type": "error",
     "traceback": [
      "\u001b[1;31m---------------------------------------------------------------------------\u001b[0m",
      "\u001b[1;31mOSError\u001b[0m                                   Traceback (most recent call last)",
      "Cell \u001b[1;32mIn[17], line 1\u001b[0m\n\u001b[1;32m----> 1\u001b[0m df_final\u001b[39m.\u001b[39mto_csv(\u001b[39m'\u001b[39m\u001b[39mData\u001b[39m\u001b[39m\\\\\u001b[39;00m\u001b[39mdark_output.csv\u001b[39m\u001b[39m'\u001b[39m, index\u001b[39m=\u001b[39m\u001b[39mFalse\u001b[39;00m)\n",
      "File \u001b[1;32mc:\\Users\\Putu Mahendrayana\\anaconda3\\envs\\dark-env\\Lib\\site-packages\\pandas\\core\\generic.py:3772\u001b[0m, in \u001b[0;36mNDFrame.to_csv\u001b[1;34m(self, path_or_buf, sep, na_rep, float_format, columns, header, index, index_label, mode, encoding, compression, quoting, quotechar, lineterminator, chunksize, date_format, doublequote, escapechar, decimal, errors, storage_options)\u001b[0m\n\u001b[0;32m   3761\u001b[0m df \u001b[39m=\u001b[39m \u001b[39mself\u001b[39m \u001b[39mif\u001b[39;00m \u001b[39misinstance\u001b[39m(\u001b[39mself\u001b[39m, ABCDataFrame) \u001b[39melse\u001b[39;00m \u001b[39mself\u001b[39m\u001b[39m.\u001b[39mto_frame()\n\u001b[0;32m   3763\u001b[0m formatter \u001b[39m=\u001b[39m DataFrameFormatter(\n\u001b[0;32m   3764\u001b[0m     frame\u001b[39m=\u001b[39mdf,\n\u001b[0;32m   3765\u001b[0m     header\u001b[39m=\u001b[39mheader,\n\u001b[1;32m   (...)\u001b[0m\n\u001b[0;32m   3769\u001b[0m     decimal\u001b[39m=\u001b[39mdecimal,\n\u001b[0;32m   3770\u001b[0m )\n\u001b[1;32m-> 3772\u001b[0m \u001b[39mreturn\u001b[39;00m DataFrameRenderer(formatter)\u001b[39m.\u001b[39mto_csv(\n\u001b[0;32m   3773\u001b[0m     path_or_buf,\n\u001b[0;32m   3774\u001b[0m     lineterminator\u001b[39m=\u001b[39mlineterminator,\n\u001b[0;32m   3775\u001b[0m     sep\u001b[39m=\u001b[39msep,\n\u001b[0;32m   3776\u001b[0m     encoding\u001b[39m=\u001b[39mencoding,\n\u001b[0;32m   3777\u001b[0m     errors\u001b[39m=\u001b[39merrors,\n\u001b[0;32m   3778\u001b[0m     compression\u001b[39m=\u001b[39mcompression,\n\u001b[0;32m   3779\u001b[0m     quoting\u001b[39m=\u001b[39mquoting,\n\u001b[0;32m   3780\u001b[0m     columns\u001b[39m=\u001b[39mcolumns,\n\u001b[0;32m   3781\u001b[0m     index_label\u001b[39m=\u001b[39mindex_label,\n\u001b[0;32m   3782\u001b[0m     mode\u001b[39m=\u001b[39mmode,\n\u001b[0;32m   3783\u001b[0m     chunksize\u001b[39m=\u001b[39mchunksize,\n\u001b[0;32m   3784\u001b[0m     quotechar\u001b[39m=\u001b[39mquotechar,\n\u001b[0;32m   3785\u001b[0m     date_format\u001b[39m=\u001b[39mdate_format,\n\u001b[0;32m   3786\u001b[0m     doublequote\u001b[39m=\u001b[39mdoublequote,\n\u001b[0;32m   3787\u001b[0m     escapechar\u001b[39m=\u001b[39mescapechar,\n\u001b[0;32m   3788\u001b[0m     storage_options\u001b[39m=\u001b[39mstorage_options,\n\u001b[0;32m   3789\u001b[0m )\n",
      "File \u001b[1;32mc:\\Users\\Putu Mahendrayana\\anaconda3\\envs\\dark-env\\Lib\\site-packages\\pandas\\io\\formats\\format.py:1186\u001b[0m, in \u001b[0;36mDataFrameRenderer.to_csv\u001b[1;34m(self, path_or_buf, encoding, sep, columns, index_label, mode, compression, quoting, quotechar, lineterminator, chunksize, date_format, doublequote, escapechar, errors, storage_options)\u001b[0m\n\u001b[0;32m   1165\u001b[0m     created_buffer \u001b[39m=\u001b[39m \u001b[39mFalse\u001b[39;00m\n\u001b[0;32m   1167\u001b[0m csv_formatter \u001b[39m=\u001b[39m CSVFormatter(\n\u001b[0;32m   1168\u001b[0m     path_or_buf\u001b[39m=\u001b[39mpath_or_buf,\n\u001b[0;32m   1169\u001b[0m     lineterminator\u001b[39m=\u001b[39mlineterminator,\n\u001b[1;32m   (...)\u001b[0m\n\u001b[0;32m   1184\u001b[0m     formatter\u001b[39m=\u001b[39m\u001b[39mself\u001b[39m\u001b[39m.\u001b[39mfmt,\n\u001b[0;32m   1185\u001b[0m )\n\u001b[1;32m-> 1186\u001b[0m csv_formatter\u001b[39m.\u001b[39msave()\n\u001b[0;32m   1188\u001b[0m \u001b[39mif\u001b[39;00m created_buffer:\n\u001b[0;32m   1189\u001b[0m     \u001b[39massert\u001b[39;00m \u001b[39misinstance\u001b[39m(path_or_buf, StringIO)\n",
      "File \u001b[1;32mc:\\Users\\Putu Mahendrayana\\anaconda3\\envs\\dark-env\\Lib\\site-packages\\pandas\\io\\formats\\csvs.py:240\u001b[0m, in \u001b[0;36mCSVFormatter.save\u001b[1;34m(self)\u001b[0m\n\u001b[0;32m    236\u001b[0m \u001b[39m\u001b[39m\u001b[39m\"\"\"\u001b[39;00m\n\u001b[0;32m    237\u001b[0m \u001b[39mCreate the writer & save.\u001b[39;00m\n\u001b[0;32m    238\u001b[0m \u001b[39m\"\"\"\u001b[39;00m\n\u001b[0;32m    239\u001b[0m \u001b[39m# apply compression and byte/text conversion\u001b[39;00m\n\u001b[1;32m--> 240\u001b[0m \u001b[39mwith\u001b[39;00m get_handle(\n\u001b[0;32m    241\u001b[0m     \u001b[39mself\u001b[39m\u001b[39m.\u001b[39mfilepath_or_buffer,\n\u001b[0;32m    242\u001b[0m     \u001b[39mself\u001b[39m\u001b[39m.\u001b[39mmode,\n\u001b[0;32m    243\u001b[0m     encoding\u001b[39m=\u001b[39m\u001b[39mself\u001b[39m\u001b[39m.\u001b[39mencoding,\n\u001b[0;32m    244\u001b[0m     errors\u001b[39m=\u001b[39m\u001b[39mself\u001b[39m\u001b[39m.\u001b[39merrors,\n\u001b[0;32m    245\u001b[0m     compression\u001b[39m=\u001b[39m\u001b[39mself\u001b[39m\u001b[39m.\u001b[39mcompression,\n\u001b[0;32m    246\u001b[0m     storage_options\u001b[39m=\u001b[39m\u001b[39mself\u001b[39m\u001b[39m.\u001b[39mstorage_options,\n\u001b[0;32m    247\u001b[0m ) \u001b[39mas\u001b[39;00m handles:\n\u001b[0;32m    248\u001b[0m     \u001b[39m# Note: self.encoding is irrelevant here\u001b[39;00m\n\u001b[0;32m    249\u001b[0m     \u001b[39mself\u001b[39m\u001b[39m.\u001b[39mwriter \u001b[39m=\u001b[39m csvlib\u001b[39m.\u001b[39mwriter(\n\u001b[0;32m    250\u001b[0m         handles\u001b[39m.\u001b[39mhandle,\n\u001b[0;32m    251\u001b[0m         lineterminator\u001b[39m=\u001b[39m\u001b[39mself\u001b[39m\u001b[39m.\u001b[39mlineterminator,\n\u001b[1;32m   (...)\u001b[0m\n\u001b[0;32m    256\u001b[0m         quotechar\u001b[39m=\u001b[39m\u001b[39mself\u001b[39m\u001b[39m.\u001b[39mquotechar,\n\u001b[0;32m    257\u001b[0m     )\n\u001b[0;32m    259\u001b[0m     \u001b[39mself\u001b[39m\u001b[39m.\u001b[39m_save()\n",
      "File \u001b[1;32mc:\\Users\\Putu Mahendrayana\\anaconda3\\envs\\dark-env\\Lib\\site-packages\\pandas\\io\\common.py:737\u001b[0m, in \u001b[0;36mget_handle\u001b[1;34m(path_or_buf, mode, encoding, compression, memory_map, is_text, errors, storage_options)\u001b[0m\n\u001b[0;32m    735\u001b[0m \u001b[39m# Only for write methods\u001b[39;00m\n\u001b[0;32m    736\u001b[0m \u001b[39mif\u001b[39;00m \u001b[39m\"\u001b[39m\u001b[39mr\u001b[39m\u001b[39m\"\u001b[39m \u001b[39mnot\u001b[39;00m \u001b[39min\u001b[39;00m mode \u001b[39mand\u001b[39;00m is_path:\n\u001b[1;32m--> 737\u001b[0m     check_parent_directory(\u001b[39mstr\u001b[39m(handle))\n\u001b[0;32m    739\u001b[0m \u001b[39mif\u001b[39;00m compression:\n\u001b[0;32m    740\u001b[0m     \u001b[39mif\u001b[39;00m compression \u001b[39m!=\u001b[39m \u001b[39m\"\u001b[39m\u001b[39mzstd\u001b[39m\u001b[39m\"\u001b[39m:\n\u001b[0;32m    741\u001b[0m         \u001b[39m# compression libraries do not like an explicit text-mode\u001b[39;00m\n",
      "File \u001b[1;32mc:\\Users\\Putu Mahendrayana\\anaconda3\\envs\\dark-env\\Lib\\site-packages\\pandas\\io\\common.py:600\u001b[0m, in \u001b[0;36mcheck_parent_directory\u001b[1;34m(path)\u001b[0m\n\u001b[0;32m    598\u001b[0m parent \u001b[39m=\u001b[39m Path(path)\u001b[39m.\u001b[39mparent\n\u001b[0;32m    599\u001b[0m \u001b[39mif\u001b[39;00m \u001b[39mnot\u001b[39;00m parent\u001b[39m.\u001b[39mis_dir():\n\u001b[1;32m--> 600\u001b[0m     \u001b[39mraise\u001b[39;00m \u001b[39mOSError\u001b[39;00m(\u001b[39mrf\u001b[39m\u001b[39m\"\u001b[39m\u001b[39mCannot save file into a non-existent directory: \u001b[39m\u001b[39m'\u001b[39m\u001b[39m{\u001b[39;00mparent\u001b[39m}\u001b[39;00m\u001b[39m'\u001b[39m\u001b[39m\"\u001b[39m)\n",
      "\u001b[1;31mOSError\u001b[0m: Cannot save file into a non-existent directory: 'Data'"
     ]
    }
   ],
   "source": [
    "df_final.to_csv('dark_output.csv', index=False)"
   ]
  }
 ],
 "metadata": {
  "kernelspec": {
   "display_name": "dark-env",
   "language": "python",
   "name": "python3"
  },
  "language_info": {
   "codemirror_mode": {
    "name": "ipython",
    "version": 3
   },
   "file_extension": ".py",
   "mimetype": "text/x-python",
   "name": "python",
   "nbconvert_exporter": "python",
   "pygments_lexer": "ipython3",
   "version": "3.11.4"
  },
  "orig_nbformat": 4
 },
 "nbformat": 4,
 "nbformat_minor": 2
}
