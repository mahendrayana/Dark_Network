{
 "cells": [
  {
   "cell_type": "code",
   "execution_count": null,
   "metadata": {},
   "outputs": [],
   "source": [
    "import requests\n",
    "from bs4 import BeautifulSoup\n",
    "from urllib.parse import urljoin\n",
    "import pandas as pd\n",
    "\n",
    "base_url = \"https://dark-netflix.fandom.com/wiki/Category:Characters\"\n",
    "\n",
    "response = requests.get(base_url)\n",
    "soup = BeautifulSoup(response.content, \"html.parser\")\n",
    "\n",
    "character_containers = soup.find_all(\"div\", class_=\"category-page__member-left\")\n",
    "\n",
    "character_data = []\n",
    "\n",
    "# Step 1: Extract Character Name, Wiki Link, and Image Source\n",
    "for container in character_containers:\n",
    "    anchor = container.find(\"a\")\n",
    "    \n",
    "    if anchor:\n",
    "        image_src = anchor.find(\"img\")[\"data-src\"]\n",
    "        wiki_link = urljoin(base_url, anchor[\"href\"])\n",
    "        \n",
    "        character_name = wiki_link.split(\"/\")[-1]  # Extract the character name from the URL\n",
    "        \n",
    "        character_data.append({\"Character Name\": character_name, \"Image Source\": image_src, \"Wiki Link\": wiki_link})\n",
    "\n",
    "# Step 2: Fill in Family Relations\n",
    "for character in character_data:\n",
    "    character_response = requests.get(character[\"Wiki Link\"])\n",
    "    character_soup = BeautifulSoup(character_response.content, \"html.parser\")\n",
    "    \n",
    "    family_section = character_soup.find(\"div\", {\"data-source\": \"Family\"})\n",
    "    \n",
    "    if family_section:\n",
    "        family_relations = []\n",
    "        for item in family_section.find_all(\"p\"):\n",
    "            family_relations.append(item.get_text())\n",
    "        \n",
    "        family_relations = \" \".join(family_relations)\n",
    "        character[\"Family Relations\"] = family_relations\n",
    "    else:\n",
    "        character[\"Family Relations\"] = \"N/A\"\n",
    "\n",
    "# Create DataFrame from the character data\n",
    "df = pd.DataFrame(character_data)\n",
    "\n",
    "df.info"
   ]
  },
  {
   "cell_type": "code",
   "execution_count": null,
   "metadata": {},
   "outputs": [],
   "source": [
    "df.to_csv(\"RAW.csv\", index=False)"
   ]
  }
 ],
 "metadata": {
  "language_info": {
   "name": "python"
  },
  "orig_nbformat": 4
 },
 "nbformat": 4,
 "nbformat_minor": 2
}
